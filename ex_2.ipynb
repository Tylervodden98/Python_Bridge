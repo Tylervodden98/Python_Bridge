{
 "cells": [
  {
   "cell_type": "code",
   "execution_count": 2,
   "metadata": {},
   "outputs": [],
   "source": [
    "#Record the employee's name\n",
    "full_name = input(\"Please enter your full name: \")\n",
    "name_split = full_name.split()\n",
    "first_name = name_split[0].capitalize()\n",
    "last_name = name_split[1].capitalize()\n"
   ]
  },
  {
   "cell_type": "code",
   "execution_count": 3,
   "metadata": {},
   "outputs": [],
   "source": [
    "#Record the employee's Age\n",
    "age = int(float(input(\"Please input your age: \")))\n",
    "birth_year = 2023 - age"
   ]
  },
  {
   "cell_type": "code",
   "execution_count": 5,
   "metadata": {},
   "outputs": [],
   "source": [
    "#Generate the employee's email\n",
    "email = first_name + \".\" + last_name + f\"{str(birth_year)[2:]}\" + \"@company.com\"\n"
   ]
  },
  {
   "cell_type": "code",
   "execution_count": 6,
   "metadata": {},
   "outputs": [
    {
     "name": "stdout",
     "output_type": "stream",
     "text": [
      "Your first name is: Tyler\n",
      "\n",
      "Your last name is: Vodden\n",
      "\n",
      "Your age is: 24 and you were born in 1999.\n",
      "\n",
      "Your generated email is: Tyler.Vodden99@company.com\n"
     ]
    }
   ],
   "source": [
    "#print all to screen\n",
    "print(f\"Your first name is: {first_name}\\n\")\n",
    "print(f\"Your last name is: {last_name}\\n\")\n",
    "print(f\"Your age is: {age} and you were born in {birth_year}.\\n\")\n",
    "print(f\"Your generated email is: {email}\")\n"
   ]
  }
 ],
 "metadata": {
  "kernelspec": {
   "display_name": "Python 3",
   "language": "python",
   "name": "python3"
  },
  "language_info": {
   "codemirror_mode": {
    "name": "ipython",
    "version": 3
   },
   "file_extension": ".py",
   "mimetype": "text/x-python",
   "name": "python",
   "nbconvert_exporter": "python",
   "pygments_lexer": "ipython3",
   "version": "3.10.8"
  },
  "orig_nbformat": 4
 },
 "nbformat": 4,
 "nbformat_minor": 2
}
