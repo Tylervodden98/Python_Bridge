{
 "cells": [
  {
   "cell_type": "code",
   "execution_count": 18,
   "metadata": {},
   "outputs": [],
   "source": [
    "name = input('Enter your name: ')\n",
    "age = input('Enter your age: ')"
   ]
  },
  {
   "cell_type": "code",
   "execution_count": 19,
   "metadata": {},
   "outputs": [
    {
     "name": "stdout",
     "output_type": "stream",
     "text": [
      "tyler\n",
      "<class 'int'>\n"
     ]
    }
   ],
   "source": [
    "#Exercise 1: Booleans/Numbers\n",
    "print(name)\n",
    "try:\n",
    "  age = int(age)\n",
    "except ValueError:\n",
    "  print('please enter a valid type')\n",
    "print(type(age))"
   ]
  },
  {
   "cell_type": "code",
   "execution_count": 9,
   "metadata": {},
   "outputs": [
    {
     "data": {
      "text/plain": [
       "True"
      ]
     },
     "execution_count": 9,
     "metadata": {},
     "output_type": "execute_result"
    }
   ],
   "source": [
    "b1 = True\n",
    "b2 = False\n",
    "10 > 5\n"
   ]
  },
  {
   "cell_type": "code",
   "execution_count": 11,
   "metadata": {},
   "outputs": [
    {
     "name": "stdout",
     "output_type": "stream",
     "text": [
      "False\n",
      "False\n"
     ]
    },
    {
     "data": {
      "text/plain": [
       "False"
      ]
     },
     "execution_count": 11,
     "metadata": {},
     "output_type": "execute_result"
    }
   ],
   "source": [
    "arr_type = []\n",
    "string_type = \"\"\n",
    "int_type = 0\n",
    "print(bool(arr_type))\n",
    "print(bool(string_type))\n",
    "bool(int_type)"
   ]
  },
  {
   "cell_type": "code",
   "execution_count": 1,
   "metadata": {},
   "outputs": [
    {
     "name": "stdout",
     "output_type": "stream",
     "text": [
      "The sum of the numbers you inputted was: 10\n"
     ]
    }
   ],
   "source": [
    "num1 = int(input('Please enter number 1: '))\n",
    "num2 = int(input('Please enter number 2: '))\n",
    "num3 = int(input('Please enter number 3: '))\n",
    "\n",
    "sum = num1 + num2 + num3\n",
    "print(f'The sum of the numbers you inputted was: {sum}')"
   ]
  },
  {
   "cell_type": "code",
   "execution_count": 9,
   "metadata": {},
   "outputs": [
    {
     "name": "stdout",
     "output_type": "stream",
     "text": [
      "tyler vodden\n",
      "Tyler,Vodden\n",
      "40\n"
     ]
    }
   ],
   "source": [
    "#Exercise 2: Strings and Types\n",
    "\n",
    "full_name = str(input('please enter your first and last name: '))\n",
    "names = full_name.split()\n",
    "first = names[0]\n",
    "last = names[1]\n",
    "\n",
    "print(full_name)\n",
    "print(f\"{first.capitalize()},{last.capitalize()}\")\n",
    "\n",
    "num = input('please enter a number: ')\n",
    "int_num = int(float(num))\n",
    "print(int_num)"
   ]
  },
  {
   "cell_type": "code",
   "execution_count": 13,
   "metadata": {},
   "outputs": [
    {
     "name": "stdout",
     "output_type": "stream",
     "text": [
      "The product of these two numbers is not even.\n"
     ]
    },
    {
     "data": {
      "text/plain": [
       "False"
      ]
     },
     "execution_count": 13,
     "metadata": {},
     "output_type": "execute_result"
    }
   ],
   "source": [
    "#operators challenges\n",
    "#Prompt the user for two numbers, multiply those num, then check if the result is even\n",
    "\n",
    "num1 = int(input(\"Please enter num 1: \"))\n",
    "num2 = int(input(\"Please enter num 2: \"))\n",
    "result = num1 * num2\n",
    "if result % 2 == 0:\n",
    "  print(\"The product of these two numbers is even!\")\n",
    "else:\n",
    "  print(\"The product of these two numbers is not even.\")\n",
    "\n",
    "result % 2 == 0\n"
   ]
  },
  {
   "cell_type": "code",
   "execution_count": 5,
   "metadata": {},
   "outputs": [],
   "source": [
    "#Create a counter var with int value, Display counter to user and ask them how much they wajnt to add to it, then increment by that amount\n",
    "counter = int(0)\n",
    "flag = False\n",
    "while flag == False:\n",
    "\n",
    "  increment = int(input(f\"The current counter is {counter}, please type how much you would like to add: \"))\n",
    "  counter += increment\n",
    "  if counter > 10:\n",
    "    print(f\"Counter is greater than 10 game over!\")\n",
    "    flag = True\n",
    "  else:\n",
    "    pass"
   ]
  },
  {
   "cell_type": "code",
   "execution_count": 12,
   "metadata": {},
   "outputs": [
    {
     "name": "stdout",
     "output_type": "stream",
     "text": [
      "['Bob']\n",
      "['Bob', 'Jeo']\n",
      "['Bob', 'Jeo', 'Did']\n",
      "Why are you here if you don't like Python???\n"
     ]
    }
   ],
   "source": [
    "#Prompt user for their 3 fav programming languages and check if Python is in the input\n",
    "\n",
    "lang = []\n",
    "for num in range (0,3):\n",
    "  fav = str(input(\"Please enter one of your 3 favorite programming languages: \")).capitalize()\n",
    "  lang.append(fav)\n",
    "  print(lang)\n",
    "\n",
    "if \"Python\" in lang:\n",
    "  print(\"Good you are in a Python course!\")\n",
    "else:\n",
    "  print(\"Why are you here if you don't like Python???\")\n",
    "\n"
   ]
  },
  {
   "cell_type": "code",
   "execution_count": 17,
   "metadata": {},
   "outputs": [
    {
     "name": "stdout",
     "output_type": "stream",
     "text": [
      "False\n"
     ]
    }
   ],
   "source": [
    "#Conditionals\n",
    "\n",
    "#Construct a conditional to determine if a user's age is greater than 18 but less than 100\n",
    "\n",
    "age = int(input(\"Please enter your age: \"))\n",
    "\n",
    "if 100 > age > 18:\n",
    "  print(True)\n",
    "else:\n",
    "  print(False)\n",
    "\n"
   ]
  },
  {
   "cell_type": "code",
   "execution_count": 23,
   "metadata": {},
   "outputs": [
    {
     "data": {
      "text/plain": [
       "'negative'"
      ]
     },
     "execution_count": 23,
     "metadata": {},
     "output_type": "execute_result"
    }
   ],
   "source": [
    "#Construct a ternary operator that returns 'negative' if a number is less than 0 or 'positive' if num is 0 or greater\n",
    "num = int(input(\"Please enter any integer (negative included): \"))\n",
    "string = \"\"\n",
    "if num >= 0:\n",
    "  string = 'positive' \n",
    "else:\n",
    "  string = 'negative'\n",
    "string"
   ]
  },
  {
   "cell_type": "code",
   "execution_count": 25,
   "metadata": {},
   "outputs": [
    {
     "name": "stdout",
     "output_type": "stream",
     "text": [
      "Go away donkey nobody likes you.\n"
     ]
    }
   ],
   "source": [
    "#Construct a conditional where one code block contains at least three print statements\n",
    "\n",
    "shrek = str(input(\"Please enter 'Y' if you are Shrek 'N' if you are not: \"))\n",
    "\n",
    "if shrek.upper() == 'Y':\n",
    "  print(\"Shrek is Green\")\n",
    "  print(\"Shrek is an Ogre\")\n",
    "  print(\"Shrek is Stinky\")\n",
    "  print(\"WHAT ARE YOU DOING IN MY SWAMP\")\n",
    "else:\n",
    "  print(\"Go away donkey nobody likes you.\")"
   ]
  },
  {
   "cell_type": "code",
   "execution_count": 27,
   "metadata": {},
   "outputs": [
    {
     "name": "stdout",
     "output_type": "stream",
     "text": [
      "Your number is 2\n",
      "The number 3 is divisible by 3\n",
      "The number 6 is divisible by 3\n",
      "The number 9 is divisible by 3\n",
      "The number 12 is divisible by 3\n",
      "The number 15 is divisible by 3\n",
      "The number 18 is divisible by 3\n",
      "The number 21 is divisible by 3\n",
      "The number 24 is divisible by 3\n",
      "The number 27 is divisible by 3\n",
      "The number 30 is divisible by 3\n",
      "The number 33 is divisible by 3\n",
      "The number 36 is divisible by 3\n",
      "The number 39 is divisible by 3\n",
      "The number 42 is divisible by 3\n",
      "The number 45 is divisible by 3\n",
      "The number 48 is divisible by 3\n",
      "That is all the numbers that are divisible by 3 between your number, and 50\n"
     ]
    }
   ],
   "source": [
    "#While Loops\n",
    "#Create while loop that counts up to a user's input, only prints nums divisble by 3, and breaks if a number is greater than 50\n",
    "num_user = int(input(\"Please enter a number: \"))\n",
    "\n",
    "print(f\"Your number is {num_user}\")\n",
    "\n",
    "while num_user < 50:\n",
    "  if num_user % 3 == 0:\n",
    "    print(f\"The number {num_user} is divisible by 3\")\n",
    "  num_user += 1\n",
    "else: print(\"That is all the numbers that are divisible by 3 between your number, and 50\")\n",
    "\n",
    "#Create a while loop whose condition is not numeric, and create a conditional within it that flips the loop\n",
    "\n"
   ]
  },
  {
   "cell_type": "code",
   "execution_count": 29,
   "metadata": {},
   "outputs": [
    {
     "name": "stdout",
     "output_type": "stream",
     "text": [
      "t\n",
      "y\n",
      "l\n",
      "e\n",
      "r\n"
     ]
    }
   ],
   "source": [
    "#Loop over the length of a given string, and print each letter\n",
    "\n",
    "string = str(input(\"Please enter a string: \"))\n",
    "\n",
    "index = 0\n",
    "while index < len(string):\n",
    "  print(f\"{string[index]}\")\n",
    "  index += 1"
   ]
  },
  {
   "cell_type": "code",
   "execution_count": 30,
   "metadata": {},
   "outputs": [
    {
     "name": "stdout",
     "output_type": "stream",
     "text": [
      "t\n",
      "y\n",
      "l\n",
      "e\n",
      "r\n"
     ]
    }
   ],
   "source": [
    "#using for loop way easier than while\n",
    "string = str(input(\"Please enter a string: \"))\n",
    "\n",
    "for letter in string:\n",
    "  print(letter)"
   ]
  },
  {
   "cell_type": "code",
   "execution_count": 34,
   "metadata": {},
   "outputs": [
    {
     "data": {
      "text/plain": [
       "'Leonardo'"
      ]
     },
     "execution_count": 34,
     "metadata": {},
     "output_type": "execute_result"
    }
   ],
   "source": [
    "#Collections - Tuples and Lists\n",
    "\n",
    "actor = (\"Leonardo\", \"Dicaprio\", 1974, \"Django Unchained\", 2012, \"Slave Owner\", \"Los Angeles, California\")\n",
    "(name, surname, bYear, movie, mYear, profession, birthplace) = actor\n",
    "\n",
    "name"
   ]
  },
  {
   "cell_type": "code",
   "execution_count": 35,
   "metadata": {},
   "outputs": [
    {
     "name": "stdout",
     "output_type": "stream",
     "text": [
      "The Idiot\n",
      "Prison Break\n",
      "Bible\n",
      "Cowboy Bebop\n",
      "Death note\n"
     ]
    }
   ],
   "source": [
    "#Lists 7 lists of tv, shows, anime, movies, books\n",
    "\n",
    "favs = [\"The Idiot\", \"Prison Break\", \"Bible\", \"Cowboy Bebop\", \"Death note\"]\n",
    "\n",
    "for item in favs:\n",
    "  print(item)"
   ]
  },
  {
   "cell_type": "code",
   "execution_count": 43,
   "metadata": {},
   "outputs": [
    {
     "name": "stdout",
     "output_type": "stream",
     "text": [
      "ladder has a height of: 3.2\n",
      "house has a height of: 20\n",
      "phone has a height of: 6\n",
      "monitor has a height of: 16\n",
      "ladder has a height of: 3.2\n",
      "house has a height of: 50\n",
      "phone has a height of: 4\n",
      "monitor has a height of: 16\n"
     ]
    }
   ],
   "source": [
    "#Dictionaries\n",
    "\n",
    "heights = {\"ladder\": 3.2, \"house\": 20, \"phone\": 6, \"monitor\": 16}\n",
    "\n",
    "def print_height():\n",
    "  for height in heights:\n",
    "    print(f\"{height} has a height of: {heights[height]}\")\n",
    "\n",
    "print_height()\n",
    "heights[\"house\"] = 50\n",
    "heights[\"phone\"] = 4\n",
    "\n",
    "print_height()\n"
   ]
  },
  {
   "cell_type": "code",
   "execution_count": null,
   "metadata": {},
   "outputs": [],
   "source": []
  },
  {
   "cell_type": "code",
   "execution_count": 18,
   "metadata": {},
   "outputs": [
    {
     "name": "stdout",
     "output_type": "stream",
     "text": [
      "[]\n"
     ]
    },
    {
     "ename": "IndexError",
     "evalue": "list index out of range",
     "output_type": "error",
     "traceback": [
      "\u001b[1;31m---------------------------------------------------------------------------\u001b[0m",
      "\u001b[1;31mIndexError\u001b[0m                                Traceback (most recent call last)",
      "Cell \u001b[1;32mIn[18], line 23\u001b[0m\n\u001b[0;32m     21\u001b[0m     \u001b[39mcontinue\u001b[39;00m\n\u001b[0;32m     22\u001b[0m   \u001b[39melse\u001b[39;00m:\n\u001b[1;32m---> 23\u001b[0m     food_tuple\u001b[39m.\u001b[39mappend(\u001b[39mtuple\u001b[39m(new_food\u001b[39m.\u001b[39;49msplit()[\u001b[39m1\u001b[39;49m]))\n\u001b[0;32m     25\u001b[0m dict_user[\u001b[39m\"\u001b[39m\u001b[39mfoods\u001b[39m\u001b[39m\"\u001b[39m] \u001b[39m=\u001b[39m food_tuple\n\u001b[0;32m     27\u001b[0m allergies \u001b[39m=\u001b[39m \u001b[39mFalse\u001b[39;00m\n",
      "\u001b[1;31mIndexError\u001b[0m: list index out of range"
     ]
    }
   ],
   "source": [
    "#Create a dict and prompt the user for their \"name\", \"age\" and occupation as keys\n",
    "#Prompt the user to enter a fav food types\n",
    "#Store them as a tuple\n",
    "#Prompt the user to enter their food allergies\n",
    "#Store them as a list\n",
    "#Format a print statement to print the relevant data to the console\n",
    "\n",
    "dict_user = {}\n",
    "\n",
    "dict_user[\"name\"] = str(input(\"Please enter your name: \")).capitalize()\n",
    "dict_user[\"age\"] = int(input(\"Please enter your age: \"))\n",
    "dict_user[\"occupation\"] =  str(input(\"Please enter your occupation: \")).capitalize()\n",
    "\n",
    "food_end = False\n",
    "food_tuple = []\n",
    "while food_end == False:\n",
    "  new_food = input(\"Please enter one of your favourite foods, if you have no more enter nothing to end the list: \")\n",
    "  print(food_tuple)\n",
    "  if new_food == \"\":\n",
    "    food_end = True\n",
    "    continue\n",
    "  else:\n",
    "    food_tuple.append(tuple(new_food.split()))\n",
    "\n",
    "dict_user[\"foods\"] = food_tuple\n",
    "\n",
    "allergies = False\n",
    "allergies_list = []\n",
    "while allergies == False:\n",
    "  new_allergy = input(\"Please enter one of your allergies, if you have no more enter nothing: \")\n",
    "\n",
    "  if new_allergy == \"\":\n",
    "    allergies = True\n",
    "  else:\n",
    "    allergies_list.append(str(new_allergy))\n",
    "\n",
    "dict_user[\"allergies\"] = allergies_list\n",
    "dict_user"
   ]
  }
 ],
 "metadata": {
  "kernelspec": {
   "display_name": "Python 3",
   "language": "python",
   "name": "python3"
  },
  "language_info": {
   "codemirror_mode": {
    "name": "ipython",
    "version": 3
   },
   "file_extension": ".py",
   "mimetype": "text/x-python",
   "name": "python",
   "nbconvert_exporter": "python",
   "pygments_lexer": "ipython3",
   "version": "3.10.8"
  },
  "orig_nbformat": 4,
  "vscode": {
   "interpreter": {
    "hash": "03ab3287d28adb1637128605090d9c230ea9fa76ac4551f88e94e7456de20445"
   }
  }
 },
 "nbformat": 4,
 "nbformat_minor": 2
}
