{
 "cells": [
  {
   "cell_type": "code",
   "execution_count": 34,
   "metadata": {},
   "outputs": [
    {
     "name": "stdout",
     "output_type": "stream",
     "text": [
      "p\n"
     ]
    }
   ],
   "source": [
    "#Get user 1 input r,p,s\n",
    "player1 = input(\"Player1, please enter r,p,s for Rock, Paper, or Scissors: \")\n",
    "player1 = player1.lower()\n",
    "print(player1)\n",
    "check_valid1 = False\n",
    "if player1 != \"r\" and player1 != \"p\" and player1 != \"s\":\n",
    "  print(\"Please enter valid input of 'r','p' or 's'\")\n",
    "else:\n",
    "  check_valid1 = True\n",
    "\n",
    "  "
   ]
  },
  {
   "cell_type": "code",
   "execution_count": 37,
   "metadata": {},
   "outputs": [
    {
     "name": "stdout",
     "output_type": "stream",
     "text": [
      "scis\n",
      "Please enter valid input of 'r','p' or 's'\n"
     ]
    }
   ],
   "source": [
    "#Get user 2 input r,p,s\n",
    "player2 = input(\"Player 2, please enter r,p,s for Rock, Paper, or Scissors: \")\n",
    "player2 = player2.lower()\n",
    "print(player2)\n",
    "check_valid2 = False\n",
    "if player2 != \"r\" and player2 != \"p\" and player2 != \"s\":\n",
    "  print(\"Please enter valid input of 'r','p' or 's'\")\n",
    "else:\n",
    "  check_valid2 = True"
   ]
  },
  {
   "cell_type": "code",
   "execution_count": 38,
   "metadata": {},
   "outputs": [
    {
     "name": "stdout",
     "output_type": "stream",
     "text": [
      "Player 2 has an invalid input\n"
     ]
    }
   ],
   "source": [
    "#Play Rock, paper, scissors\n",
    "\n",
    "if check_valid1 == True and check_valid2 == True:\n",
    "    #Play r,p,s\n",
    "    #First check if they chose the same option\n",
    "    if player1 == player2:\n",
    "        print(f\"Both Players chose {player1}, it's a tie!\")\n",
    "    elif player1 == \"r\" and player2 == \"s\":\n",
    "        print(\"Player 1 wins!\")\n",
    "    elif player1 == \"p\" and player2 == \"r\":\n",
    "        print(\"Player 1 wins!\")\n",
    "    elif player1 == \"s\" and player2 == \"p\":\n",
    "        print(\"Player 1 wins!\")\n",
    "    else:\n",
    "        #All other cases P2 wins\n",
    "        print(\"Player 2 wins!\")\n",
    "else:\n",
    "    if check_valid1 == False:\n",
    "        print(\"Player 1 has an invalid input\")\n",
    "    else:\n",
    "        print(\"Player 2 has an invalid input\")"
   ]
  }
 ],
 "metadata": {
  "kernelspec": {
   "display_name": "Python 3",
   "language": "python",
   "name": "python3"
  },
  "language_info": {
   "codemirror_mode": {
    "name": "ipython",
    "version": 3
   },
   "file_extension": ".py",
   "mimetype": "text/x-python",
   "name": "python",
   "nbconvert_exporter": "python",
   "pygments_lexer": "ipython3",
   "version": "3.10.8"
  },
  "orig_nbformat": 4
 },
 "nbformat": 4,
 "nbformat_minor": 2
}
